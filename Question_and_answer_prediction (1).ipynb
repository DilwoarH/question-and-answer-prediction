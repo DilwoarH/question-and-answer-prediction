{
  "nbformat": 4,
  "nbformat_minor": 0,
  "metadata": {
    "colab": {
      "name": "Question and answer prediction.ipynb",
      "provenance": []
    },
    "kernelspec": {
      "name": "python3",
      "display_name": "Python 3"
    }
  },
  "cells": [
    {
      "cell_type": "code",
      "metadata": {
        "id": "hxiNb9hHZEFl",
        "colab_type": "code",
        "colab": {}
      },
      "source": [
        "!pip install allennlp\n",
        "from allennlp.predictors.predictor import Predictor"
      ],
      "execution_count": 0,
      "outputs": []
    },
    {
      "cell_type": "code",
      "metadata": {
        "id": "F1IVLo-vTsd6",
        "colab_type": "code",
        "colab": {}
      },
      "source": [
        "predictor = Predictor.from_path(\"https://storage.googleapis.com/allennlp-public-models/bidaf-elmo-model-2018.11.30-charpad.tar.gz\")"
      ],
      "execution_count": 0,
      "outputs": []
    },
    {
      "cell_type": "code",
      "metadata": {
        "id": "TlKAewisaId2",
        "colab_type": "code",
        "colab": {}
      },
      "source": [
        "predictor.predict(\n",
        "  passage=\"\"\"\n",
        "  Introduction to the role of software developer \n",
        "  A software developer designs, runs and improves software that meets user needs. In this role, you will:\n",
        "  be responsible for writing clean, secure code following a test-driven approach\n",
        "  create code that is open by default and easy for others to reuse. A junior developer learns on the job by delivering software components.\"\"\",\n",
        "  question=\"What does a software developer need to do?\"\n",
        ")['best_span_str']"
      ],
      "execution_count": 0,
      "outputs": []
    }
  ]
}